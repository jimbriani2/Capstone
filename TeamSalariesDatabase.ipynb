{
 "cells": [
  {
   "cell_type": "code",
   "execution_count": 1,
   "metadata": {},
   "outputs": [],
   "source": [
    "import pandas as pd\n",
    "import sqlite3"
   ]
  },
  {
   "cell_type": "code",
   "execution_count": 2,
   "metadata": {},
   "outputs": [],
   "source": [
    "Team_Salaries = pd.read_csv(\"../CapstoneProject/TeamSalaryData.csv\")"
   ]
  },
  {
   "cell_type": "code",
   "execution_count": 3,
   "metadata": {},
   "outputs": [],
   "source": [
    "conn = sqlite3.connect(\"TeamSalaryData.db\")"
   ]
  },
  {
   "cell_type": "code",
   "execution_count": 4,
   "metadata": {},
   "outputs": [
    {
     "name": "stderr",
     "output_type": "stream",
     "text": [
      "/opt/tljh/user/lib/python3.6/site-packages/pandas/core/generic.py:2130: UserWarning: The spaces in these column names will not be changed. In pandas versions < 0.14, spaces were converted to underscores.\n",
      "  dtype=dtype)\n"
     ]
    },
    {
     "ename": "ValueError",
     "evalue": "Table 'Team_Salaries' already exists.",
     "output_type": "error",
     "traceback": [
      "\u001b[0;31m---------------------------------------------------------------------------\u001b[0m",
      "\u001b[0;31mValueError\u001b[0m                                Traceback (most recent call last)",
      "\u001b[0;32m<ipython-input-4-21f96fd23c88>\u001b[0m in \u001b[0;36m<module>\u001b[0;34m\u001b[0m\n\u001b[0;32m----> 1\u001b[0;31m \u001b[0mTeam_Salaries\u001b[0m\u001b[0;34m.\u001b[0m\u001b[0mto_sql\u001b[0m\u001b[0;34m(\u001b[0m\u001b[0;34m'Team_Salaries'\u001b[0m\u001b[0;34m,\u001b[0m \u001b[0mconn\u001b[0m\u001b[0;34m)\u001b[0m\u001b[0;34m\u001b[0m\u001b[0;34m\u001b[0m\u001b[0m\n\u001b[0m",
      "\u001b[0;32m/opt/tljh/user/lib/python3.6/site-packages/pandas/core/generic.py\u001b[0m in \u001b[0;36mto_sql\u001b[0;34m(self, name, con, schema, if_exists, index, index_label, chunksize, dtype)\u001b[0m\n\u001b[1;32m   2128\u001b[0m         sql.to_sql(self, name, con, schema=schema, if_exists=if_exists,\n\u001b[1;32m   2129\u001b[0m                    \u001b[0mindex\u001b[0m\u001b[0;34m=\u001b[0m\u001b[0mindex\u001b[0m\u001b[0;34m,\u001b[0m \u001b[0mindex_label\u001b[0m\u001b[0;34m=\u001b[0m\u001b[0mindex_label\u001b[0m\u001b[0;34m,\u001b[0m \u001b[0mchunksize\u001b[0m\u001b[0;34m=\u001b[0m\u001b[0mchunksize\u001b[0m\u001b[0;34m,\u001b[0m\u001b[0;34m\u001b[0m\u001b[0;34m\u001b[0m\u001b[0m\n\u001b[0;32m-> 2130\u001b[0;31m                    dtype=dtype)\n\u001b[0m\u001b[1;32m   2131\u001b[0m \u001b[0;34m\u001b[0m\u001b[0m\n\u001b[1;32m   2132\u001b[0m     def to_pickle(self, path, compression='infer',\n",
      "\u001b[0;32m/opt/tljh/user/lib/python3.6/site-packages/pandas/io/sql.py\u001b[0m in \u001b[0;36mto_sql\u001b[0;34m(frame, name, con, schema, if_exists, index, index_label, chunksize, dtype)\u001b[0m\n\u001b[1;32m    448\u001b[0m     pandas_sql.to_sql(frame, name, if_exists=if_exists, index=index,\n\u001b[1;32m    449\u001b[0m                       \u001b[0mindex_label\u001b[0m\u001b[0;34m=\u001b[0m\u001b[0mindex_label\u001b[0m\u001b[0;34m,\u001b[0m \u001b[0mschema\u001b[0m\u001b[0;34m=\u001b[0m\u001b[0mschema\u001b[0m\u001b[0;34m,\u001b[0m\u001b[0;34m\u001b[0m\u001b[0;34m\u001b[0m\u001b[0m\n\u001b[0;32m--> 450\u001b[0;31m                       chunksize=chunksize, dtype=dtype)\n\u001b[0m\u001b[1;32m    451\u001b[0m \u001b[0;34m\u001b[0m\u001b[0m\n\u001b[1;32m    452\u001b[0m \u001b[0;34m\u001b[0m\u001b[0m\n",
      "\u001b[0;32m/opt/tljh/user/lib/python3.6/site-packages/pandas/io/sql.py\u001b[0m in \u001b[0;36mto_sql\u001b[0;34m(self, frame, name, if_exists, index, index_label, schema, chunksize, dtype)\u001b[0m\n\u001b[1;32m   1478\u001b[0m                             \u001b[0mif_exists\u001b[0m\u001b[0;34m=\u001b[0m\u001b[0mif_exists\u001b[0m\u001b[0;34m,\u001b[0m \u001b[0mindex_label\u001b[0m\u001b[0;34m=\u001b[0m\u001b[0mindex_label\u001b[0m\u001b[0;34m,\u001b[0m\u001b[0;34m\u001b[0m\u001b[0;34m\u001b[0m\u001b[0m\n\u001b[1;32m   1479\u001b[0m                             dtype=dtype)\n\u001b[0;32m-> 1480\u001b[0;31m         \u001b[0mtable\u001b[0m\u001b[0;34m.\u001b[0m\u001b[0mcreate\u001b[0m\u001b[0;34m(\u001b[0m\u001b[0;34m)\u001b[0m\u001b[0;34m\u001b[0m\u001b[0;34m\u001b[0m\u001b[0m\n\u001b[0m\u001b[1;32m   1481\u001b[0m         \u001b[0mtable\u001b[0m\u001b[0;34m.\u001b[0m\u001b[0minsert\u001b[0m\u001b[0;34m(\u001b[0m\u001b[0mchunksize\u001b[0m\u001b[0;34m)\u001b[0m\u001b[0;34m\u001b[0m\u001b[0;34m\u001b[0m\u001b[0m\n\u001b[1;32m   1482\u001b[0m \u001b[0;34m\u001b[0m\u001b[0m\n",
      "\u001b[0;32m/opt/tljh/user/lib/python3.6/site-packages/pandas/io/sql.py\u001b[0m in \u001b[0;36mcreate\u001b[0;34m(self)\u001b[0m\n\u001b[1;32m    561\u001b[0m         \u001b[0;32mif\u001b[0m \u001b[0mself\u001b[0m\u001b[0;34m.\u001b[0m\u001b[0mexists\u001b[0m\u001b[0;34m(\u001b[0m\u001b[0;34m)\u001b[0m\u001b[0;34m:\u001b[0m\u001b[0;34m\u001b[0m\u001b[0;34m\u001b[0m\u001b[0m\n\u001b[1;32m    562\u001b[0m             \u001b[0;32mif\u001b[0m \u001b[0mself\u001b[0m\u001b[0;34m.\u001b[0m\u001b[0mif_exists\u001b[0m \u001b[0;34m==\u001b[0m \u001b[0;34m'fail'\u001b[0m\u001b[0;34m:\u001b[0m\u001b[0;34m\u001b[0m\u001b[0;34m\u001b[0m\u001b[0m\n\u001b[0;32m--> 563\u001b[0;31m                 \u001b[0;32mraise\u001b[0m \u001b[0mValueError\u001b[0m\u001b[0;34m(\u001b[0m\u001b[0;34m\"Table '%s' already exists.\"\u001b[0m \u001b[0;34m%\u001b[0m \u001b[0mself\u001b[0m\u001b[0;34m.\u001b[0m\u001b[0mname\u001b[0m\u001b[0;34m)\u001b[0m\u001b[0;34m\u001b[0m\u001b[0;34m\u001b[0m\u001b[0m\n\u001b[0m\u001b[1;32m    564\u001b[0m             \u001b[0;32melif\u001b[0m \u001b[0mself\u001b[0m\u001b[0;34m.\u001b[0m\u001b[0mif_exists\u001b[0m \u001b[0;34m==\u001b[0m \u001b[0;34m'replace'\u001b[0m\u001b[0;34m:\u001b[0m\u001b[0;34m\u001b[0m\u001b[0;34m\u001b[0m\u001b[0m\n\u001b[1;32m    565\u001b[0m                 \u001b[0mself\u001b[0m\u001b[0;34m.\u001b[0m\u001b[0mpd_sql\u001b[0m\u001b[0;34m.\u001b[0m\u001b[0mdrop_table\u001b[0m\u001b[0;34m(\u001b[0m\u001b[0mself\u001b[0m\u001b[0;34m.\u001b[0m\u001b[0mname\u001b[0m\u001b[0;34m,\u001b[0m \u001b[0mself\u001b[0m\u001b[0;34m.\u001b[0m\u001b[0mschema\u001b[0m\u001b[0;34m)\u001b[0m\u001b[0;34m\u001b[0m\u001b[0;34m\u001b[0m\u001b[0m\n",
      "\u001b[0;31mValueError\u001b[0m: Table 'Team_Salaries' already exists."
     ]
    }
   ],
   "source": [
    "Team_Salaries.to_sql('Team_Salaries', conn)"
   ]
  },
  {
   "cell_type": "code",
   "execution_count": 5,
   "metadata": {},
   "outputs": [
    {
     "name": "stdout",
     "output_type": "stream",
     "text": [
      "     index  Team   Year          Payroll Win WS\n",
      "0        0    BOS  2018    $227,398,860     Yes\n",
      "1        1    CHC  2018    $193,259,933      No\n",
      "2        2    NYY  2018    $180,098,151      No\n",
      "3        3    LAD  2018    $199,582,045      No\n",
      "4        4    SFG  2018    $205,665,348      No\n",
      "5        5    WSN  2018    $181,382,609      No\n",
      "6        6    HOU  2018    $163,524,216      No\n",
      "7        7    STL  2018    $163,784,989      No\n",
      "8        8    NYM  2018    $150,187,987      No\n",
      "9        9    LAA  2018    $173,784,989      No\n",
      "10      10    SEA  2018    $160,993,827      No\n",
      "11      11    COL  2018    $143,968,544      No\n",
      "12      12    PHI  2018    $104,297,471      No\n",
      "13      13    TEX  2018    $140,625,018      No\n",
      "14      14    CIN  2018    $100,305,768      No\n",
      "15      15    MIL  2018    $108,982,016      No\n",
      "16      16    ARI  2018    $143,324,597      No\n",
      "17      17    DET  2018    $130,959,889      No\n",
      "18      18    CLE  2018    $142,804,703      No\n",
      "19      19    MIN  2018    $115,509,520      No\n",
      "20      20    ATL  2018    $130,649,395      No\n",
      "21      21    TOR  2018    $150,946,147      No\n",
      "22      22    SDP  2018    $103,843,635      No\n",
      "23      23    KCR  2018    $129,944,821      No\n",
      "24      24    CHW  2018     $71,839,808      No\n",
      "25      25    OAK  2018     $80,315,288      No\n",
      "26      26    PIT  2018     $91,025,861      No\n",
      "27      27    MIA  2018     $91,817,860      No\n",
      "28      28    BAL  2018    $130,467,027      No\n",
      "29      29    TBR  2018     $68,810,167      No\n",
      "..     ...    ...   ...              ...    ...\n",
      "528    528    CHC  2001     $64,015,833      No\n",
      "529    529    NYY  2001    $109,791,893      No\n",
      "530    530    LAD  2001    $108,980,952      No\n",
      "531    531    SFG  2001     $63,332,667      No\n",
      "532    532    WSN  2001     $34,774,500      No\n",
      "533    533    HOU  2001     $60,382,667      No\n",
      "534    534    STL  2001     $77,270,855      No\n",
      "535    535    NYM  2001     $93,174,428      No\n",
      "536    536    LAA  2001     $46,568,180      No\n",
      "537    537    SEA  2001     $75,652,500      No\n",
      "538    538    COL  2001     $71,068,000      No\n",
      "539    539    PHI  2001     $41,664,167      No\n",
      "540    540    TEX  2001     $88,504,421      No\n",
      "541    541    CIN  2001     $45,227,882      No\n",
      "542    542    MIL  2001     $43,089,333      No\n",
      "543    543    ARI  2001     $81,206,513     Yes\n",
      "544    544    DET  2001     $49,831,167      No\n",
      "545    545    CLE  2001     $91,974,979      No\n",
      "546    546    MIN  2001     $24,350,000      No\n",
      "547    547    ATL  2001     $91,851,687      No\n",
      "548    548    TOR  2001     $75,798,500      No\n",
      "549    549    SDP  2001     $38,333,117      No\n",
      "550    550    KCR  2001     $35,643,000      No\n",
      "551    551    CHW  2001     $62,363,000      No\n",
      "552    552    OAK  2001     $33,810,750      No\n",
      "553    553    PIT  2001     $52,698,333      No\n",
      "554    554    MIA  2001     $35,504,167      No\n",
      "555    555    BAL  2001     $72,426,328      No\n",
      "556    556    TBR  2001     $54,951,602      No\n",
      "557    557  Total  2001  $1,933,800,329      No\n",
      "\n",
      "[558 rows x 5 columns]\n"
     ]
    }
   ],
   "source": [
    "sql_query = 'SELECT * FROM Team_Salaries'\n",
    "Team_Salaries = pd.read_sql(sql_query, conn)\n",
    "print(Team_Salaries)"
   ]
  },
  {
   "cell_type": "code",
   "execution_count": 7,
   "metadata": {},
   "outputs": [
    {
     "name": "stdout",
     "output_type": "stream",
     "text": [
      "    index Team   Year        Payroll Win WS\n",
      "0       0   BOS  2018  $227,398,860     Yes\n",
      "1      37   HOU  2017  $138,709,677     Yes\n",
      "2      63   CHC  2016  $184,352,494     Yes\n",
      "3     116   KCR  2015  $126,529,835     Yes\n",
      "4     128   SFG  2014  $171,336,782     Yes\n",
      "5     155   BOS  2013  $170,734,264     Yes\n",
      "6     190   SFG  2012  $137,523,205     Yes\n",
      "7     224   STL  2011  $116,857,312     Yes\n",
      "8     252   SFG  2010   $97,828,833     Yes\n",
      "9     281   NYY  2009  $201,449,289     Yes\n",
      "10    322   PHI  2008   $98,269,880     Yes\n",
      "11    341   BOS  2007  $143,026,214     Yes\n",
      "12    379   STL  2006   $88,891,371     Yes\n",
      "13    427   CHW  2005   $75,228,000     Yes\n",
      "14    434   BOS  2004  $125,208,542     Yes\n",
      "15    492   MIA  2003   $49,050,000     Yes\n",
      "16    505   LAA  2002   $61,721,667     Yes\n",
      "17    543   ARI  2001   $81,206,513     Yes\n"
     ]
    }
   ],
   "source": [
    "sql_query = 'SELECT * FROM Team_Salaries WHERE \"Win WS\" = \"Yes\"'\n",
    "Team_Salaries = pd.read_sql(sql_query, conn)\n",
    "print(Team_Salaries)"
   ]
  },
  {
   "cell_type": "code",
   "execution_count": 12,
   "metadata": {},
   "outputs": [
    {
     "name": "stdout",
     "output_type": "stream",
     "text": [
      "    index  Team   Year          Payroll Win WS\n",
      "0      27    MIA  2018     $91,817,860      No\n",
      "1      26    PIT  2018     $91,025,861      No\n",
      "2      25    OAK  2018     $80,315,288      No\n",
      "3      24    CHW  2018     $71,839,808      No\n",
      "4      29    TBR  2018     $68,810,167      No\n",
      "5      30  Total  2018  $4,180,100,489      No\n",
      "6       0    BOS  2018    $227,398,860     Yes\n",
      "7       4    SFG  2018    $205,665,348      No\n",
      "8       3    LAD  2018    $199,582,045      No\n",
      "9       1    CHC  2018    $193,259,933      No\n",
      "10      5    WSN  2018    $181,382,609      No\n",
      "11      2    NYY  2018    $180,098,151      No\n",
      "12      9    LAA  2018    $173,784,989      No\n",
      "13      7    STL  2018    $163,784,989      No\n",
      "14      6    HOU  2018    $163,524,216      No\n",
      "15     10    SEA  2018    $160,993,827      No\n",
      "16     21    TOR  2018    $150,946,147      No\n",
      "17      8    NYM  2018    $150,187,987      No\n",
      "18     11    COL  2018    $143,968,544      No\n",
      "19     16    ARI  2018    $143,324,597      No\n",
      "20     18    CLE  2018    $142,804,703      No\n",
      "21     13    TEX  2018    $140,625,018      No\n",
      "22     17    DET  2018    $130,959,889      No\n",
      "23     20    ATL  2018    $130,649,395      No\n",
      "24     28    BAL  2018    $130,467,027      No\n",
      "25     23    KCR  2018    $129,944,821      No\n",
      "26     19    MIN  2018    $115,509,520      No\n",
      "27     15    MIL  2018    $108,982,016      No\n",
      "28     12    PHI  2018    $104,297,471      No\n",
      "29     22    SDP  2018    $103,843,635      No\n",
      "30     14    CIN  2018    $100,305,768      No\n"
     ]
    }
   ],
   "source": [
    "sql_query = 'SELECT * FROM Team_Salaries WHERE Year = 2018 ORDER BY Payroll DESC'\n",
    "Team_Salaries = pd.read_sql(sql_query, conn)\n",
    "print(Team_Salaries)"
   ]
  },
  {
   "cell_type": "code",
   "execution_count": null,
   "metadata": {},
   "outputs": [],
   "source": []
  }
 ],
 "metadata": {
  "kernelspec": {
   "display_name": "Python 3",
   "language": "python",
   "name": "python3"
  },
  "language_info": {
   "codemirror_mode": {
    "name": "ipython",
    "version": 3
   },
   "file_extension": ".py",
   "mimetype": "text/x-python",
   "name": "python",
   "nbconvert_exporter": "python",
   "pygments_lexer": "ipython3",
   "version": "3.6.7"
  }
 },
 "nbformat": 4,
 "nbformat_minor": 2
}
