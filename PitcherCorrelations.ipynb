{
 "cells": [
  {
   "cell_type": "code",
   "execution_count": 1,
   "metadata": {},
   "outputs": [],
   "source": [
    "import numpy as np\n",
    "import pandas as pd\n",
    "import matplotlib.pyplot as plt\n",
    "import seaborn as sns\n",
    "from sklearn.linear_model import LinearRegression"
   ]
  },
  {
   "cell_type": "code",
   "execution_count": 2,
   "metadata": {},
   "outputs": [],
   "source": [
    "Pitchers_Data = pd.read_csv(\"../CapstoneProject/PitcherData.csv\")"
   ]
  },
  {
   "cell_type": "code",
   "execution_count": 3,
   "metadata": {},
   "outputs": [
    {
     "data": {
      "text/html": [
       "<div>\n",
       "<style scoped>\n",
       "    .dataframe tbody tr th:only-of-type {\n",
       "        vertical-align: middle;\n",
       "    }\n",
       "\n",
       "    .dataframe tbody tr th {\n",
       "        vertical-align: top;\n",
       "    }\n",
       "\n",
       "    .dataframe thead th {\n",
       "        text-align: right;\n",
       "    }\n",
       "</style>\n",
       "<table border=\"1\" class=\"dataframe\">\n",
       "  <thead>\n",
       "    <tr style=\"text-align: right;\">\n",
       "      <th></th>\n",
       "      <th>Player</th>\n",
       "      <th>Year</th>\n",
       "      <th>Age</th>\n",
       "      <th>Team</th>\n",
       "      <th>Wins</th>\n",
       "      <th>Losses</th>\n",
       "      <th>W-L %</th>\n",
       "      <th>ERA</th>\n",
       "      <th>Games</th>\n",
       "      <th>Starts</th>\n",
       "      <th>Saves</th>\n",
       "      <th>Innings</th>\n",
       "      <th>Walks</th>\n",
       "      <th>Strikeouts</th>\n",
       "      <th>WHIP</th>\n",
       "      <th>WAR</th>\n",
       "      <th>Salary</th>\n",
       "      <th>Adj Salary</th>\n",
       "    </tr>\n",
       "  </thead>\n",
       "  <tbody>\n",
       "    <tr>\n",
       "      <th>0</th>\n",
       "      <td>Matt Barnes</td>\n",
       "      <td>2015</td>\n",
       "      <td>25</td>\n",
       "      <td>BOS</td>\n",
       "      <td>3</td>\n",
       "      <td>4</td>\n",
       "      <td>0.428571</td>\n",
       "      <td>5.44</td>\n",
       "      <td>32</td>\n",
       "      <td>2</td>\n",
       "      <td>0</td>\n",
       "      <td>43.0</td>\n",
       "      <td>15</td>\n",
       "      <td>39</td>\n",
       "      <td>1.651</td>\n",
       "      <td>-0.3</td>\n",
       "      <td>238967</td>\n",
       "      <td>268662</td>\n",
       "    </tr>\n",
       "    <tr>\n",
       "      <th>1</th>\n",
       "      <td>Matt Barnes</td>\n",
       "      <td>2016</td>\n",
       "      <td>26</td>\n",
       "      <td>BOS</td>\n",
       "      <td>4</td>\n",
       "      <td>3</td>\n",
       "      <td>0.571429</td>\n",
       "      <td>4.05</td>\n",
       "      <td>62</td>\n",
       "      <td>0</td>\n",
       "      <td>1</td>\n",
       "      <td>66.2</td>\n",
       "      <td>31</td>\n",
       "      <td>71</td>\n",
       "      <td>1.395</td>\n",
       "      <td>0.3</td>\n",
       "      <td>511000</td>\n",
       "      <td>530689</td>\n",
       "    </tr>\n",
       "    <tr>\n",
       "      <th>2</th>\n",
       "      <td>Matt Barnes</td>\n",
       "      <td>2017</td>\n",
       "      <td>27</td>\n",
       "      <td>BOS</td>\n",
       "      <td>7</td>\n",
       "      <td>3</td>\n",
       "      <td>0.700000</td>\n",
       "      <td>3.88</td>\n",
       "      <td>70</td>\n",
       "      <td>0</td>\n",
       "      <td>1</td>\n",
       "      <td>69.2</td>\n",
       "      <td>28</td>\n",
       "      <td>83</td>\n",
       "      <td>1.220</td>\n",
       "      <td>0.7</td>\n",
       "      <td>563500</td>\n",
       "      <td>557708</td>\n",
       "    </tr>\n",
       "    <tr>\n",
       "      <th>3</th>\n",
       "      <td>Matt Barnes</td>\n",
       "      <td>2018</td>\n",
       "      <td>28</td>\n",
       "      <td>BOS</td>\n",
       "      <td>6</td>\n",
       "      <td>4</td>\n",
       "      <td>0.600000</td>\n",
       "      <td>3.65</td>\n",
       "      <td>62</td>\n",
       "      <td>0</td>\n",
       "      <td>0</td>\n",
       "      <td>61.2</td>\n",
       "      <td>31</td>\n",
       "      <td>96</td>\n",
       "      <td>1.265</td>\n",
       "      <td>1.1</td>\n",
       "      <td>605000</td>\n",
       "      <td>605000</td>\n",
       "    </tr>\n",
       "    <tr>\n",
       "      <th>4</th>\n",
       "      <td>Ryan Brasier</td>\n",
       "      <td>2018</td>\n",
       "      <td>30</td>\n",
       "      <td>BOS</td>\n",
       "      <td>2</td>\n",
       "      <td>0</td>\n",
       "      <td>1.000000</td>\n",
       "      <td>1.60</td>\n",
       "      <td>34</td>\n",
       "      <td>0</td>\n",
       "      <td>0</td>\n",
       "      <td>33.2</td>\n",
       "      <td>7</td>\n",
       "      <td>29</td>\n",
       "      <td>0.772</td>\n",
       "      <td>1.5</td>\n",
       "      <td>249050</td>\n",
       "      <td>249050</td>\n",
       "    </tr>\n",
       "  </tbody>\n",
       "</table>\n",
       "</div>"
      ],
      "text/plain": [
       "         Player  Year  Age Team  Wins  Losses     W-L %   ERA  Games  Starts  \\\n",
       "0   Matt Barnes  2015   25  BOS     3       4  0.428571  5.44     32       2   \n",
       "1   Matt Barnes  2016   26  BOS     4       3  0.571429  4.05     62       0   \n",
       "2   Matt Barnes  2017   27  BOS     7       3  0.700000  3.88     70       0   \n",
       "3   Matt Barnes  2018   28  BOS     6       4  0.600000  3.65     62       0   \n",
       "4  Ryan Brasier  2018   30  BOS     2       0  1.000000  1.60     34       0   \n",
       "\n",
       "   Saves  Innings  Walks  Strikeouts   WHIP  WAR  Salary  Adj Salary  \n",
       "0      0     43.0     15          39  1.651 -0.3  238967      268662  \n",
       "1      1     66.2     31          71  1.395  0.3  511000      530689  \n",
       "2      1     69.2     28          83  1.220  0.7  563500      557708  \n",
       "3      0     61.2     31          96  1.265  1.1  605000      605000  \n",
       "4      0     33.2      7          29  0.772  1.5  249050      249050  "
      ]
     },
     "execution_count": 3,
     "metadata": {},
     "output_type": "execute_result"
    }
   ],
   "source": [
    "Pitchers_Data.head()"
   ]
  },
  {
   "cell_type": "code",
   "execution_count": 4,
   "metadata": {},
   "outputs": [
    {
     "name": "stdout",
     "output_type": "stream",
     "text": [
      "<class 'pandas.core.frame.DataFrame'>\n",
      "RangeIndex: 1827 entries, 0 to 1826\n",
      "Data columns (total 18 columns):\n",
      "Player        1827 non-null object\n",
      "Year          1827 non-null int64\n",
      "Age           1827 non-null int64\n",
      "Team          1827 non-null object\n",
      "Wins          1827 non-null int64\n",
      "Losses        1827 non-null int64\n",
      "W-L %         1827 non-null float64\n",
      "ERA           1827 non-null float64\n",
      "Games         1827 non-null int64\n",
      "Starts        1827 non-null int64\n",
      "Saves         1827 non-null int64\n",
      "Innings       1827 non-null float64\n",
      "Walks         1827 non-null int64\n",
      "Strikeouts    1827 non-null int64\n",
      "WHIP          1827 non-null float64\n",
      "WAR           1827 non-null float64\n",
      "Salary        1827 non-null int64\n",
      "Adj Salary    1827 non-null int64\n",
      "dtypes: float64(5), int64(11), object(2)\n",
      "memory usage: 257.0+ KB\n"
     ]
    }
   ],
   "source": [
    "Pitchers_Data.info()"
   ]
  },
  {
   "cell_type": "code",
   "execution_count": 5,
   "metadata": {},
   "outputs": [
    {
     "data": {
      "text/html": [
       "<div>\n",
       "<style scoped>\n",
       "    .dataframe tbody tr th:only-of-type {\n",
       "        vertical-align: middle;\n",
       "    }\n",
       "\n",
       "    .dataframe tbody tr th {\n",
       "        vertical-align: top;\n",
       "    }\n",
       "\n",
       "    .dataframe thead th {\n",
       "        text-align: right;\n",
       "    }\n",
       "</style>\n",
       "<table border=\"1\" class=\"dataframe\">\n",
       "  <thead>\n",
       "    <tr style=\"text-align: right;\">\n",
       "      <th></th>\n",
       "      <th>Year</th>\n",
       "      <th>Age</th>\n",
       "      <th>Wins</th>\n",
       "      <th>Losses</th>\n",
       "      <th>W-L %</th>\n",
       "      <th>ERA</th>\n",
       "      <th>Games</th>\n",
       "      <th>Starts</th>\n",
       "      <th>Saves</th>\n",
       "      <th>Innings</th>\n",
       "      <th>Walks</th>\n",
       "      <th>Strikeouts</th>\n",
       "      <th>WHIP</th>\n",
       "      <th>WAR</th>\n",
       "      <th>Salary</th>\n",
       "      <th>Adj Salary</th>\n",
       "    </tr>\n",
       "  </thead>\n",
       "  <tbody>\n",
       "    <tr>\n",
       "      <th>Year</th>\n",
       "      <td>1.000000</td>\n",
       "      <td>0.375986</td>\n",
       "      <td>-0.137394</td>\n",
       "      <td>-0.110166</td>\n",
       "      <td>-0.010367</td>\n",
       "      <td>-0.010459</td>\n",
       "      <td>0.119263</td>\n",
       "      <td>-0.148304</td>\n",
       "      <td>0.057606</td>\n",
       "      <td>-0.143663</td>\n",
       "      <td>-0.166652</td>\n",
       "      <td>-0.084042</td>\n",
       "      <td>-0.062619</td>\n",
       "      <td>-0.088045</td>\n",
       "      <td>0.123523</td>\n",
       "      <td>0.056969</td>\n",
       "    </tr>\n",
       "    <tr>\n",
       "      <th>Age</th>\n",
       "      <td>0.375986</td>\n",
       "      <td>1.000000</td>\n",
       "      <td>0.009207</td>\n",
       "      <td>-0.052678</td>\n",
       "      <td>0.112318</td>\n",
       "      <td>-0.136381</td>\n",
       "      <td>0.237007</td>\n",
       "      <td>-0.087569</td>\n",
       "      <td>0.128978</td>\n",
       "      <td>-0.022749</td>\n",
       "      <td>-0.064802</td>\n",
       "      <td>0.026116</td>\n",
       "      <td>-0.141315</td>\n",
       "      <td>0.044715</td>\n",
       "      <td>0.432635</td>\n",
       "      <td>0.403850</td>\n",
       "    </tr>\n",
       "    <tr>\n",
       "      <th>Wins</th>\n",
       "      <td>-0.137394</td>\n",
       "      <td>0.009207</td>\n",
       "      <td>1.000000</td>\n",
       "      <td>0.623405</td>\n",
       "      <td>0.399376</td>\n",
       "      <td>-0.208475</td>\n",
       "      <td>0.044141</td>\n",
       "      <td>0.827857</td>\n",
       "      <td>-0.149230</td>\n",
       "      <td>0.900897</td>\n",
       "      <td>0.742364</td>\n",
       "      <td>0.876251</td>\n",
       "      <td>-0.244219</td>\n",
       "      <td>0.738373</td>\n",
       "      <td>0.406230</td>\n",
       "      <td>0.428384</td>\n",
       "    </tr>\n",
       "    <tr>\n",
       "      <th>Losses</th>\n",
       "      <td>-0.110166</td>\n",
       "      <td>-0.052678</td>\n",
       "      <td>0.623405</td>\n",
       "      <td>1.000000</td>\n",
       "      <td>-0.119119</td>\n",
       "      <td>0.071612</td>\n",
       "      <td>0.004856</td>\n",
       "      <td>0.813740</td>\n",
       "      <td>-0.108280</td>\n",
       "      <td>0.813855</td>\n",
       "      <td>0.792757</td>\n",
       "      <td>0.727217</td>\n",
       "      <td>0.012229</td>\n",
       "      <td>0.317270</td>\n",
       "      <td>0.279464</td>\n",
       "      <td>0.290079</td>\n",
       "    </tr>\n",
       "    <tr>\n",
       "      <th>W-L %</th>\n",
       "      <td>-0.010367</td>\n",
       "      <td>0.112318</td>\n",
       "      <td>0.399376</td>\n",
       "      <td>-0.119119</td>\n",
       "      <td>1.000000</td>\n",
       "      <td>-0.406093</td>\n",
       "      <td>0.158209</td>\n",
       "      <td>0.116985</td>\n",
       "      <td>-0.019981</td>\n",
       "      <td>0.204665</td>\n",
       "      <td>0.116841</td>\n",
       "      <td>0.227373</td>\n",
       "      <td>-0.375046</td>\n",
       "      <td>0.351922</td>\n",
       "      <td>0.108181</td>\n",
       "      <td>0.112046</td>\n",
       "    </tr>\n",
       "    <tr>\n",
       "      <th>ERA</th>\n",
       "      <td>-0.010459</td>\n",
       "      <td>-0.136381</td>\n",
       "      <td>-0.208475</td>\n",
       "      <td>0.071612</td>\n",
       "      <td>-0.406093</td>\n",
       "      <td>1.000000</td>\n",
       "      <td>-0.343480</td>\n",
       "      <td>0.003406</td>\n",
       "      <td>-0.222470</td>\n",
       "      <td>-0.149988</td>\n",
       "      <td>-0.023140</td>\n",
       "      <td>-0.218147</td>\n",
       "      <td>0.795004</td>\n",
       "      <td>-0.490999</td>\n",
       "      <td>-0.073002</td>\n",
       "      <td>-0.076849</td>\n",
       "    </tr>\n",
       "    <tr>\n",
       "      <th>Games</th>\n",
       "      <td>0.119263</td>\n",
       "      <td>0.237007</td>\n",
       "      <td>0.044141</td>\n",
       "      <td>0.004856</td>\n",
       "      <td>0.158209</td>\n",
       "      <td>-0.343480</td>\n",
       "      <td>1.000000</td>\n",
       "      <td>-0.264399</td>\n",
       "      <td>0.443656</td>\n",
       "      <td>0.059994</td>\n",
       "      <td>0.061899</td>\n",
       "      <td>0.136655</td>\n",
       "      <td>-0.311831</td>\n",
       "      <td>0.141721</td>\n",
       "      <td>0.003897</td>\n",
       "      <td>-0.001652</td>\n",
       "    </tr>\n",
       "    <tr>\n",
       "      <th>Starts</th>\n",
       "      <td>-0.148304</td>\n",
       "      <td>-0.087569</td>\n",
       "      <td>0.827857</td>\n",
       "      <td>0.813740</td>\n",
       "      <td>0.116985</td>\n",
       "      <td>0.003406</td>\n",
       "      <td>-0.264399</td>\n",
       "      <td>1.000000</td>\n",
       "      <td>-0.275381</td>\n",
       "      <td>0.930510</td>\n",
       "      <td>0.837130</td>\n",
       "      <td>0.845565</td>\n",
       "      <td>-0.048106</td>\n",
       "      <td>0.554104</td>\n",
       "      <td>0.371433</td>\n",
       "      <td>0.388569</td>\n",
       "    </tr>\n",
       "    <tr>\n",
       "      <th>Saves</th>\n",
       "      <td>0.057606</td>\n",
       "      <td>0.128978</td>\n",
       "      <td>-0.149230</td>\n",
       "      <td>-0.108280</td>\n",
       "      <td>-0.019981</td>\n",
       "      <td>-0.222470</td>\n",
       "      <td>0.443656</td>\n",
       "      <td>-0.275381</td>\n",
       "      <td>1.000000</td>\n",
       "      <td>-0.135209</td>\n",
       "      <td>-0.145382</td>\n",
       "      <td>-0.051707</td>\n",
       "      <td>-0.221262</td>\n",
       "      <td>0.056850</td>\n",
       "      <td>0.042281</td>\n",
       "      <td>0.035634</td>\n",
       "    </tr>\n",
       "    <tr>\n",
       "      <th>Innings</th>\n",
       "      <td>-0.143663</td>\n",
       "      <td>-0.022749</td>\n",
       "      <td>0.900897</td>\n",
       "      <td>0.813855</td>\n",
       "      <td>0.204665</td>\n",
       "      <td>-0.149988</td>\n",
       "      <td>0.059994</td>\n",
       "      <td>0.930510</td>\n",
       "      <td>-0.135209</td>\n",
       "      <td>1.000000</td>\n",
       "      <td>0.864461</td>\n",
       "      <td>0.942942</td>\n",
       "      <td>-0.194040</td>\n",
       "      <td>0.687939</td>\n",
       "      <td>0.402220</td>\n",
       "      <td>0.425014</td>\n",
       "    </tr>\n",
       "    <tr>\n",
       "      <th>Walks</th>\n",
       "      <td>-0.166652</td>\n",
       "      <td>-0.064802</td>\n",
       "      <td>0.742364</td>\n",
       "      <td>0.792757</td>\n",
       "      <td>0.116841</td>\n",
       "      <td>-0.023140</td>\n",
       "      <td>0.061899</td>\n",
       "      <td>0.837130</td>\n",
       "      <td>-0.145382</td>\n",
       "      <td>0.864461</td>\n",
       "      <td>1.000000</td>\n",
       "      <td>0.804099</td>\n",
       "      <td>0.018866</td>\n",
       "      <td>0.461445</td>\n",
       "      <td>0.277620</td>\n",
       "      <td>0.296050</td>\n",
       "    </tr>\n",
       "    <tr>\n",
       "      <th>Strikeouts</th>\n",
       "      <td>-0.084042</td>\n",
       "      <td>0.026116</td>\n",
       "      <td>0.876251</td>\n",
       "      <td>0.727217</td>\n",
       "      <td>0.227373</td>\n",
       "      <td>-0.218147</td>\n",
       "      <td>0.136655</td>\n",
       "      <td>0.845565</td>\n",
       "      <td>-0.051707</td>\n",
       "      <td>0.942942</td>\n",
       "      <td>0.804099</td>\n",
       "      <td>1.000000</td>\n",
       "      <td>-0.277843</td>\n",
       "      <td>0.748658</td>\n",
       "      <td>0.435115</td>\n",
       "      <td>0.453409</td>\n",
       "    </tr>\n",
       "    <tr>\n",
       "      <th>WHIP</th>\n",
       "      <td>-0.062619</td>\n",
       "      <td>-0.141315</td>\n",
       "      <td>-0.244219</td>\n",
       "      <td>0.012229</td>\n",
       "      <td>-0.375046</td>\n",
       "      <td>0.795004</td>\n",
       "      <td>-0.311831</td>\n",
       "      <td>-0.048106</td>\n",
       "      <td>-0.221262</td>\n",
       "      <td>-0.194040</td>\n",
       "      <td>0.018866</td>\n",
       "      <td>-0.277843</td>\n",
       "      <td>1.000000</td>\n",
       "      <td>-0.479344</td>\n",
       "      <td>-0.114849</td>\n",
       "      <td>-0.115133</td>\n",
       "    </tr>\n",
       "    <tr>\n",
       "      <th>WAR</th>\n",
       "      <td>-0.088045</td>\n",
       "      <td>0.044715</td>\n",
       "      <td>0.738373</td>\n",
       "      <td>0.317270</td>\n",
       "      <td>0.351922</td>\n",
       "      <td>-0.490999</td>\n",
       "      <td>0.141721</td>\n",
       "      <td>0.554104</td>\n",
       "      <td>0.056850</td>\n",
       "      <td>0.687939</td>\n",
       "      <td>0.461445</td>\n",
       "      <td>0.748658</td>\n",
       "      <td>-0.479344</td>\n",
       "      <td>1.000000</td>\n",
       "      <td>0.359066</td>\n",
       "      <td>0.379207</td>\n",
       "    </tr>\n",
       "    <tr>\n",
       "      <th>Salary</th>\n",
       "      <td>0.123523</td>\n",
       "      <td>0.432635</td>\n",
       "      <td>0.406230</td>\n",
       "      <td>0.279464</td>\n",
       "      <td>0.108181</td>\n",
       "      <td>-0.073002</td>\n",
       "      <td>0.003897</td>\n",
       "      <td>0.371433</td>\n",
       "      <td>0.042281</td>\n",
       "      <td>0.402220</td>\n",
       "      <td>0.277620</td>\n",
       "      <td>0.435115</td>\n",
       "      <td>-0.114849</td>\n",
       "      <td>0.359066</td>\n",
       "      <td>1.000000</td>\n",
       "      <td>0.990080</td>\n",
       "    </tr>\n",
       "    <tr>\n",
       "      <th>Adj Salary</th>\n",
       "      <td>0.056969</td>\n",
       "      <td>0.403850</td>\n",
       "      <td>0.428384</td>\n",
       "      <td>0.290079</td>\n",
       "      <td>0.112046</td>\n",
       "      <td>-0.076849</td>\n",
       "      <td>-0.001652</td>\n",
       "      <td>0.388569</td>\n",
       "      <td>0.035634</td>\n",
       "      <td>0.425014</td>\n",
       "      <td>0.296050</td>\n",
       "      <td>0.453409</td>\n",
       "      <td>-0.115133</td>\n",
       "      <td>0.379207</td>\n",
       "      <td>0.990080</td>\n",
       "      <td>1.000000</td>\n",
       "    </tr>\n",
       "  </tbody>\n",
       "</table>\n",
       "</div>"
      ],
      "text/plain": [
       "                Year       Age      Wins    Losses     W-L %       ERA  \\\n",
       "Year        1.000000  0.375986 -0.137394 -0.110166 -0.010367 -0.010459   \n",
       "Age         0.375986  1.000000  0.009207 -0.052678  0.112318 -0.136381   \n",
       "Wins       -0.137394  0.009207  1.000000  0.623405  0.399376 -0.208475   \n",
       "Losses     -0.110166 -0.052678  0.623405  1.000000 -0.119119  0.071612   \n",
       "W-L %      -0.010367  0.112318  0.399376 -0.119119  1.000000 -0.406093   \n",
       "ERA        -0.010459 -0.136381 -0.208475  0.071612 -0.406093  1.000000   \n",
       "Games       0.119263  0.237007  0.044141  0.004856  0.158209 -0.343480   \n",
       "Starts     -0.148304 -0.087569  0.827857  0.813740  0.116985  0.003406   \n",
       "Saves       0.057606  0.128978 -0.149230 -0.108280 -0.019981 -0.222470   \n",
       "Innings    -0.143663 -0.022749  0.900897  0.813855  0.204665 -0.149988   \n",
       "Walks      -0.166652 -0.064802  0.742364  0.792757  0.116841 -0.023140   \n",
       "Strikeouts -0.084042  0.026116  0.876251  0.727217  0.227373 -0.218147   \n",
       "WHIP       -0.062619 -0.141315 -0.244219  0.012229 -0.375046  0.795004   \n",
       "WAR        -0.088045  0.044715  0.738373  0.317270  0.351922 -0.490999   \n",
       "Salary      0.123523  0.432635  0.406230  0.279464  0.108181 -0.073002   \n",
       "Adj Salary  0.056969  0.403850  0.428384  0.290079  0.112046 -0.076849   \n",
       "\n",
       "               Games    Starts     Saves   Innings     Walks  Strikeouts  \\\n",
       "Year        0.119263 -0.148304  0.057606 -0.143663 -0.166652   -0.084042   \n",
       "Age         0.237007 -0.087569  0.128978 -0.022749 -0.064802    0.026116   \n",
       "Wins        0.044141  0.827857 -0.149230  0.900897  0.742364    0.876251   \n",
       "Losses      0.004856  0.813740 -0.108280  0.813855  0.792757    0.727217   \n",
       "W-L %       0.158209  0.116985 -0.019981  0.204665  0.116841    0.227373   \n",
       "ERA        -0.343480  0.003406 -0.222470 -0.149988 -0.023140   -0.218147   \n",
       "Games       1.000000 -0.264399  0.443656  0.059994  0.061899    0.136655   \n",
       "Starts     -0.264399  1.000000 -0.275381  0.930510  0.837130    0.845565   \n",
       "Saves       0.443656 -0.275381  1.000000 -0.135209 -0.145382   -0.051707   \n",
       "Innings     0.059994  0.930510 -0.135209  1.000000  0.864461    0.942942   \n",
       "Walks       0.061899  0.837130 -0.145382  0.864461  1.000000    0.804099   \n",
       "Strikeouts  0.136655  0.845565 -0.051707  0.942942  0.804099    1.000000   \n",
       "WHIP       -0.311831 -0.048106 -0.221262 -0.194040  0.018866   -0.277843   \n",
       "WAR         0.141721  0.554104  0.056850  0.687939  0.461445    0.748658   \n",
       "Salary      0.003897  0.371433  0.042281  0.402220  0.277620    0.435115   \n",
       "Adj Salary -0.001652  0.388569  0.035634  0.425014  0.296050    0.453409   \n",
       "\n",
       "                WHIP       WAR    Salary  Adj Salary  \n",
       "Year       -0.062619 -0.088045  0.123523    0.056969  \n",
       "Age        -0.141315  0.044715  0.432635    0.403850  \n",
       "Wins       -0.244219  0.738373  0.406230    0.428384  \n",
       "Losses      0.012229  0.317270  0.279464    0.290079  \n",
       "W-L %      -0.375046  0.351922  0.108181    0.112046  \n",
       "ERA         0.795004 -0.490999 -0.073002   -0.076849  \n",
       "Games      -0.311831  0.141721  0.003897   -0.001652  \n",
       "Starts     -0.048106  0.554104  0.371433    0.388569  \n",
       "Saves      -0.221262  0.056850  0.042281    0.035634  \n",
       "Innings    -0.194040  0.687939  0.402220    0.425014  \n",
       "Walks       0.018866  0.461445  0.277620    0.296050  \n",
       "Strikeouts -0.277843  0.748658  0.435115    0.453409  \n",
       "WHIP        1.000000 -0.479344 -0.114849   -0.115133  \n",
       "WAR        -0.479344  1.000000  0.359066    0.379207  \n",
       "Salary     -0.114849  0.359066  1.000000    0.990080  \n",
       "Adj Salary -0.115133  0.379207  0.990080    1.000000  "
      ]
     },
     "execution_count": 5,
     "metadata": {},
     "output_type": "execute_result"
    }
   ],
   "source": [
    "Pitchers_Data.corr()"
   ]
  },
  {
   "cell_type": "code",
   "execution_count": 6,
   "metadata": {},
   "outputs": [
    {
     "data": {
      "text/html": [
       "<div>\n",
       "<style scoped>\n",
       "    .dataframe tbody tr th:only-of-type {\n",
       "        vertical-align: middle;\n",
       "    }\n",
       "\n",
       "    .dataframe tbody tr th {\n",
       "        vertical-align: top;\n",
       "    }\n",
       "\n",
       "    .dataframe thead th {\n",
       "        text-align: right;\n",
       "    }\n",
       "</style>\n",
       "<table border=\"1\" class=\"dataframe\">\n",
       "  <thead>\n",
       "    <tr style=\"text-align: right;\">\n",
       "      <th></th>\n",
       "      <th>Year</th>\n",
       "      <th>Age</th>\n",
       "      <th>Wins</th>\n",
       "      <th>Losses</th>\n",
       "      <th>W-L %</th>\n",
       "      <th>ERA</th>\n",
       "      <th>Games</th>\n",
       "      <th>Starts</th>\n",
       "      <th>Saves</th>\n",
       "      <th>Innings</th>\n",
       "      <th>Walks</th>\n",
       "      <th>Strikeouts</th>\n",
       "      <th>WHIP</th>\n",
       "      <th>WAR</th>\n",
       "      <th>Salary</th>\n",
       "      <th>Adj Salary</th>\n",
       "    </tr>\n",
       "  </thead>\n",
       "  <tbody>\n",
       "    <tr>\n",
       "      <th>count</th>\n",
       "      <td>1827.000000</td>\n",
       "      <td>1827.000000</td>\n",
       "      <td>1827.000000</td>\n",
       "      <td>1827.000000</td>\n",
       "      <td>1827.000000</td>\n",
       "      <td>1827.000000</td>\n",
       "      <td>1827.000000</td>\n",
       "      <td>1827.000000</td>\n",
       "      <td>1827.000000</td>\n",
       "      <td>1827.000000</td>\n",
       "      <td>1827.000000</td>\n",
       "      <td>1827.000000</td>\n",
       "      <td>1827.000000</td>\n",
       "      <td>1827.000000</td>\n",
       "      <td>1.827000e+03</td>\n",
       "      <td>1.827000e+03</td>\n",
       "    </tr>\n",
       "    <tr>\n",
       "      <th>mean</th>\n",
       "      <td>2014.958949</td>\n",
       "      <td>27.105638</td>\n",
       "      <td>5.222770</td>\n",
       "      <td>4.626163</td>\n",
       "      <td>0.492034</td>\n",
       "      <td>3.961365</td>\n",
       "      <td>33.375479</td>\n",
       "      <td>10.711002</td>\n",
       "      <td>2.562124</td>\n",
       "      <td>86.091024</td>\n",
       "      <td>28.727969</td>\n",
       "      <td>80.742200</td>\n",
       "      <td>1.303019</td>\n",
       "      <td>1.172742</td>\n",
       "      <td>2.990249e+06</td>\n",
       "      <td>3.288924e+06</td>\n",
       "    </tr>\n",
       "    <tr>\n",
       "      <th>std</th>\n",
       "      <td>2.887060</td>\n",
       "      <td>3.378676</td>\n",
       "      <td>4.788422</td>\n",
       "      <td>3.808797</td>\n",
       "      <td>0.258427</td>\n",
       "      <td>1.735845</td>\n",
       "      <td>20.059801</td>\n",
       "      <td>12.507509</td>\n",
       "      <td>7.794798</td>\n",
       "      <td>62.242867</td>\n",
       "      <td>20.241745</td>\n",
       "      <td>60.201722</td>\n",
       "      <td>0.295724</td>\n",
       "      <td>1.691986</td>\n",
       "      <td>5.119833e+06</td>\n",
       "      <td>5.594589e+06</td>\n",
       "    </tr>\n",
       "    <tr>\n",
       "      <th>min</th>\n",
       "      <td>2002.000000</td>\n",
       "      <td>20.000000</td>\n",
       "      <td>0.000000</td>\n",
       "      <td>0.000000</td>\n",
       "      <td>0.000000</td>\n",
       "      <td>0.000000</td>\n",
       "      <td>0.000000</td>\n",
       "      <td>0.000000</td>\n",
       "      <td>0.000000</td>\n",
       "      <td>0.100000</td>\n",
       "      <td>0.000000</td>\n",
       "      <td>0.000000</td>\n",
       "      <td>0.000000</td>\n",
       "      <td>-2.300000</td>\n",
       "      <td>4.000000e+02</td>\n",
       "      <td>6.120000e+02</td>\n",
       "    </tr>\n",
       "    <tr>\n",
       "      <th>25%</th>\n",
       "      <td>2013.000000</td>\n",
       "      <td>25.000000</td>\n",
       "      <td>2.000000</td>\n",
       "      <td>2.000000</td>\n",
       "      <td>0.333333</td>\n",
       "      <td>2.910000</td>\n",
       "      <td>19.000000</td>\n",
       "      <td>0.000000</td>\n",
       "      <td>0.000000</td>\n",
       "      <td>38.100000</td>\n",
       "      <td>13.000000</td>\n",
       "      <td>35.000000</td>\n",
       "      <td>1.135500</td>\n",
       "      <td>0.000000</td>\n",
       "      <td>4.140000e+05</td>\n",
       "      <td>5.295010e+05</td>\n",
       "    </tr>\n",
       "    <tr>\n",
       "      <th>50%</th>\n",
       "      <td>2016.000000</td>\n",
       "      <td>27.000000</td>\n",
       "      <td>4.000000</td>\n",
       "      <td>4.000000</td>\n",
       "      <td>0.500000</td>\n",
       "      <td>3.740000</td>\n",
       "      <td>30.000000</td>\n",
       "      <td>4.000000</td>\n",
       "      <td>0.000000</td>\n",
       "      <td>66.000000</td>\n",
       "      <td>23.000000</td>\n",
       "      <td>65.000000</td>\n",
       "      <td>1.280000</td>\n",
       "      <td>0.700000</td>\n",
       "      <td>5.470000e+05</td>\n",
       "      <td>6.308490e+05</td>\n",
       "    </tr>\n",
       "    <tr>\n",
       "      <th>75%</th>\n",
       "      <td>2017.000000</td>\n",
       "      <td>29.000000</td>\n",
       "      <td>8.000000</td>\n",
       "      <td>7.000000</td>\n",
       "      <td>0.666667</td>\n",
       "      <td>4.710000</td>\n",
       "      <td>45.500000</td>\n",
       "      <td>22.000000</td>\n",
       "      <td>1.000000</td>\n",
       "      <td>130.050000</td>\n",
       "      <td>42.000000</td>\n",
       "      <td>111.000000</td>\n",
       "      <td>1.441000</td>\n",
       "      <td>1.900000</td>\n",
       "      <td>3.407776e+06</td>\n",
       "      <td>3.710760e+06</td>\n",
       "    </tr>\n",
       "    <tr>\n",
       "      <th>max</th>\n",
       "      <td>2018.000000</td>\n",
       "      <td>41.000000</td>\n",
       "      <td>24.000000</td>\n",
       "      <td>19.000000</td>\n",
       "      <td>1.000000</td>\n",
       "      <td>18.000000</td>\n",
       "      <td>82.000000</td>\n",
       "      <td>35.000000</td>\n",
       "      <td>57.000000</td>\n",
       "      <td>253.000000</td>\n",
       "      <td>105.000000</td>\n",
       "      <td>369.000000</td>\n",
       "      <td>3.300000</td>\n",
       "      <td>10.500000</td>\n",
       "      <td>3.300000e+07</td>\n",
       "      <td>3.644937e+07</td>\n",
       "    </tr>\n",
       "  </tbody>\n",
       "</table>\n",
       "</div>"
      ],
      "text/plain": [
       "              Year          Age         Wins       Losses        W-L %  \\\n",
       "count  1827.000000  1827.000000  1827.000000  1827.000000  1827.000000   \n",
       "mean   2014.958949    27.105638     5.222770     4.626163     0.492034   \n",
       "std       2.887060     3.378676     4.788422     3.808797     0.258427   \n",
       "min    2002.000000    20.000000     0.000000     0.000000     0.000000   \n",
       "25%    2013.000000    25.000000     2.000000     2.000000     0.333333   \n",
       "50%    2016.000000    27.000000     4.000000     4.000000     0.500000   \n",
       "75%    2017.000000    29.000000     8.000000     7.000000     0.666667   \n",
       "max    2018.000000    41.000000    24.000000    19.000000     1.000000   \n",
       "\n",
       "               ERA        Games       Starts        Saves      Innings  \\\n",
       "count  1827.000000  1827.000000  1827.000000  1827.000000  1827.000000   \n",
       "mean      3.961365    33.375479    10.711002     2.562124    86.091024   \n",
       "std       1.735845    20.059801    12.507509     7.794798    62.242867   \n",
       "min       0.000000     0.000000     0.000000     0.000000     0.100000   \n",
       "25%       2.910000    19.000000     0.000000     0.000000    38.100000   \n",
       "50%       3.740000    30.000000     4.000000     0.000000    66.000000   \n",
       "75%       4.710000    45.500000    22.000000     1.000000   130.050000   \n",
       "max      18.000000    82.000000    35.000000    57.000000   253.000000   \n",
       "\n",
       "             Walks   Strikeouts         WHIP          WAR        Salary  \\\n",
       "count  1827.000000  1827.000000  1827.000000  1827.000000  1.827000e+03   \n",
       "mean     28.727969    80.742200     1.303019     1.172742  2.990249e+06   \n",
       "std      20.241745    60.201722     0.295724     1.691986  5.119833e+06   \n",
       "min       0.000000     0.000000     0.000000    -2.300000  4.000000e+02   \n",
       "25%      13.000000    35.000000     1.135500     0.000000  4.140000e+05   \n",
       "50%      23.000000    65.000000     1.280000     0.700000  5.470000e+05   \n",
       "75%      42.000000   111.000000     1.441000     1.900000  3.407776e+06   \n",
       "max     105.000000   369.000000     3.300000    10.500000  3.300000e+07   \n",
       "\n",
       "         Adj Salary  \n",
       "count  1.827000e+03  \n",
       "mean   3.288924e+06  \n",
       "std    5.594589e+06  \n",
       "min    6.120000e+02  \n",
       "25%    5.295010e+05  \n",
       "50%    6.308490e+05  \n",
       "75%    3.710760e+06  \n",
       "max    3.644937e+07  "
      ]
     },
     "execution_count": 6,
     "metadata": {},
     "output_type": "execute_result"
    }
   ],
   "source": [
    "Pitchers_Data.describe()"
   ]
  },
  {
   "cell_type": "code",
   "execution_count": 7,
   "metadata": {},
   "outputs": [
    {
     "data": {
      "text/plain": [
       "<matplotlib.axes._subplots.AxesSubplot at 0x7ff961a4a320>"
      ]
     },
     "execution_count": 7,
     "metadata": {},
     "output_type": "execute_result"
    },
    {
     "data": {
      "image/png": "[encoded data removed]",
      "text/plain": [
       "<Figure size 432x288 with 1 Axes>"
      ]
     },
     "metadata": {
      "needs_background": "light"
     },
     "output_type": "display_data"
    }
   ],
   "source": [
    "sns.distplot(Pitchers_Data['Age'])"
   ]
  },
  {
   "cell_type": "code",
   "execution_count": 8,
   "metadata": {},
   "outputs": [
    {
     "data": {
      "text/plain": [
       "<matplotlib.axes._subplots.AxesSubplot at 0x7ff961969710>"
      ]
     },
     "execution_count": 8,
     "metadata": {},
     "output_type": "execute_result"
    },
    {
     "data": {
      "image/png": "[encoded data removed]",
      "text/plain": [
       "<Figure size 432x288 with 1 Axes>"
      ]
     },
     "metadata": {
      "needs_background": "light"
     },
     "output_type": "display_data"
    }
   ],
   "source": [
    "sns.distplot(Pitchers_Data['Wins'])"
   ]
  },
  {
   "cell_type": "code",
   "execution_count": 9,
   "metadata": {},
   "outputs": [
    {
     "data": {
      "text/plain": [
       "<matplotlib.axes._subplots.AxesSubplot at 0x7ff96191ddd8>"
      ]
     },
     "execution_count": 9,
     "metadata": {},
     "output_type": "execute_result"
    },
    {
     "data": {
      "image/png": "[encoded data removed]",
      "text/plain": [
       "<Figure size 432x288 with 1 Axes>"
      ]
     },
     "metadata": {
      "needs_background": "light"
     },
     "output_type": "display_data"
    }
   ],
   "source": [
    "sns.distplot(Pitchers_Data['Innings'])"
   ]
  },
  {
   "cell_type": "code",
   "execution_count": 11,
   "metadata": {},
   "outputs": [
    {
     "data": {
      "text/plain": [
       "<matplotlib.axes._subplots.AxesSubplot at 0x7ff9617a74a8>"
      ]
     },
     "execution_count": 11,
     "metadata": {},
     "output_type": "execute_result"
    },
    {
     "data": {
      "image/png": "[encoded data removed]",
      "text/plain": [
       "<Figure size 432x288 with 1 Axes>"
      ]
     },
     "metadata": {
      "needs_background": "light"
     },
     "output_type": "display_data"
    }
   ],
   "source": [
    "sns.distplot(Pitchers_Data['Strikeouts'])"
   ]
  },
  {
   "cell_type": "code",
   "execution_count": 13,
   "metadata": {},
   "outputs": [
    {
     "data": {
      "text/plain": [
       "<matplotlib.axes._subplots.AxesSubplot at 0x7ff9616e7da0>"
      ]
     },
     "execution_count": 13,
     "metadata": {},
     "output_type": "execute_result"
    },
    {
     "data": {
      "image/png": "[encoded data removed]",
      "text/plain": [
       "<Figure size 432x288 with 1 Axes>"
      ]
     },
     "metadata": {
      "needs_background": "light"
     },
     "output_type": "display_data"
    }
   ],
   "source": [
    "sns.distplot(Pitchers_Data['Adj Salary'])"
   ]
  },
  {
   "cell_type": "code",
   "execution_count": 22,
   "metadata": {},
   "outputs": [
    {
     "data": {
      "text/plain": [
       "Text(0, 0.5, 'Adjusted Salary')"
      ]
     },
     "execution_count": 22,
     "metadata": {},
     "output_type": "execute_result"
    },
    {
     "data": {
      "image/png": "[encoded data removed]",
      "text/plain": [
       "<Figure size 432x288 with 1 Axes>"
      ]
     },
     "metadata": {
      "needs_background": "light"
     },
     "output_type": "display_data"
    }
   ],
   "source": [
    "X = Pitchers_Data['Age']\n",
    "Y = Pitchers_Data['Adj Salary']\n",
    "plt.scatter(X, Y)\n",
    "plt.title(\"Pitcher Age vs Salary\")\n",
    "plt.xlabel(\"Age\")\n",
    "plt.ylabel(\"Adjusted Salary\")"
   ]
  },
  {
   "cell_type": "code",
   "execution_count": 18,
   "metadata": {},
   "outputs": [
    {
     "data": {
      "text/plain": [
       "Text(0, 0.5, 'Adjusted Salary')"
      ]
     },
     "execution_count": 18,
     "metadata": {},
     "output_type": "execute_result"
    },
    {
     "data": {
      "image/png": "[encoded data removed]",
      "text/plain": [
       "<Figure size 432x288 with 1 Axes>"
      ]
     },
     "metadata": {
      "needs_background": "light"
     },
     "output_type": "display_data"
    }
   ],
   "source": [
    "X = Pitchers_Data['Wins']\n",
    "Y = Pitchers_Data['Adj Salary']\n",
    "plt.scatter(X, Y)\n",
    "plt.title(\"Wins vs Salary\")\n",
    "plt.xlabel(\"Wins\")\n",
    "plt.ylabel(\"Adjusted Salary\")"
   ]
  },
  {
   "cell_type": "code",
   "execution_count": 20,
   "metadata": {},
   "outputs": [
    {
     "data": {
      "text/plain": [
       "Text(0, 0.5, 'Adjusted Salary')"
      ]
     },
     "execution_count": 20,
     "metadata": {},
     "output_type": "execute_result"
    },
    {
     "data": {
      "image/png": "[encoded data removed]",
      "text/plain": [
       "<Figure size 432x288 with 1 Axes>"
      ]
     },
     "metadata": {
      "needs_background": "light"
     },
     "output_type": "display_data"
    }
   ],
   "source": [
    "X = Pitchers_Data['Innings']\n",
    "Y = Pitchers_Data['Adj Salary']\n",
    "plt.scatter(X, Y)\n",
    "plt.title(\"Innings vs Salary\")\n",
    "plt.xlabel(\"Innings\")\n",
    "plt.ylabel(\"Adjusted Salary\")"
   ]
  },
  {
   "cell_type": "code",
   "execution_count": 21,
   "metadata": {},
   "outputs": [
    {
     "data": {
      "text/plain": [
       "Text(0, 0.5, 'Adjusted Salary')"
      ]
     },
     "execution_count": 21,
     "metadata": {},
     "output_type": "execute_result"
    },
    {
     "data": {
      "image/png": "[encoded data removed]",
      "text/plain": [
       "<Figure size 432x288 with 1 Axes>"
      ]
     },
     "metadata": {
      "needs_background": "light"
     },
     "output_type": "display_data"
    }
   ],
   "source": [
    "X = Pitchers_Data['Strikeouts']\n",
    "Y = Pitchers_Data['Adj Salary']\n",
    "plt.scatter(X, Y)\n",
    "plt.title(\"Strikeouts vs Salary\")\n",
    "plt.xlabel(\"Strikeouts\")\n",
    "plt.ylabel(\"Adjusted Salary\")"
   ]
  },
  {
   "cell_type": "code",
   "execution_count": null,
   "metadata": {},
   "outputs": [],
   "source": []
  }
 ],
 "metadata": {
  "kernelspec": {
   "display_name": "Python 3",
   "language": "python",
   "name": "python3"
  },
  "language_info": {
   "codemirror_mode": {
    "name": "ipython",
    "version": 3
   },
   "file_extension": ".py",
   "mimetype": "text/x-python",
   "name": "python",
   "nbconvert_exporter": "python",
   "pygments_lexer": "ipython3",
   "version": "3.6.7"
  }
 },
 "nbformat": 4,
 "nbformat_minor": 2
}
